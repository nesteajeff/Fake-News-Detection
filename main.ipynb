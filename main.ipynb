{
 "cells": [
  {
   "cell_type": "code",
   "execution_count": 1,
   "metadata": {},
   "outputs": [],
   "source": [
    "import tensorflow\n",
    "import torch\n",
    "from transformers import pipeline"
   ]
  },
  {
   "cell_type": "code",
   "execution_count": 3,
   "metadata": {},
   "outputs": [
    {
     "data": {
      "text/plain": [
       "[{'sequence': 'brie',\n",
       "  'labels': ['cheese', 'animal'],\n",
       "  'scores': [0.9708920121192932, 0.02910795621573925]},\n",
       " {'sequence': 'goat',\n",
       "  'labels': ['animal', 'cheese'],\n",
       "  'scores': [0.9980172514915466, 0.00198272499255836]},\n",
       " {'sequence': 'cheddar',\n",
       "  'labels': ['animal', 'cheese'],\n",
       "  'scores': [0.5735825300216675, 0.4264174699783325]},\n",
       " {'sequence': 'snake',\n",
       "  'labels': ['animal', 'cheese'],\n",
       "  'scores': [0.9993327260017395, 0.0006672403542324901]}]"
      ]
     },
     "execution_count": 3,
     "metadata": {},
     "output_type": "execute_result"
    }
   ],
   "source": [
    "# example of trying to classify items between cheese and animal\n",
    "classifier = pipeline('zero-shot-classification', model='facebook/bart-large-mnli')\n",
    "classifier(['brie', 'goat', 'cheddar', 'snake'],\n",
    "           candidate_labels = ['cheese', 'animal']\n",
    ")"
   ]
  },
  {
   "cell_type": "code",
   "execution_count": null,
   "metadata": {},
   "outputs": [],
   "source": []
  }
 ],
 "metadata": {
  "kernelspec": {
   "display_name": "Python 3",
   "language": "python",
   "name": "python3"
  },
  "language_info": {
   "codemirror_mode": {
    "name": "ipython",
    "version": 3
   },
   "file_extension": ".py",
   "mimetype": "text/x-python",
   "name": "python",
   "nbconvert_exporter": "python",
   "pygments_lexer": "ipython3",
   "version": "3.10.13"
  }
 },
 "nbformat": 4,
 "nbformat_minor": 2
}
